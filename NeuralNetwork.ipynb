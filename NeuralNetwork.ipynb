{
 "cells": [
  {
   "cell_type": "code",
   "execution_count": null,
   "id": "35973e8f",
   "metadata": {},
   "outputs": [
    {
     "name": "stdout",
     "output_type": "stream",
     "text": [
      "(60000, 28, 28)\n",
      "(60000,)\n",
      "(10000, 28, 28)\n",
      "(10000,)\n"
     ]
    }
   ],
   "source": [
    "import numpy as np\n",
    "import keras\n",
    "(x_train, y_train), (x_test, y_test) = keras.datasets.mnist.load_data()\n",
    "print(x_train.shape)\n",
    "print(y_train.shape)\n",
    "print(x_test.shape)\n",
    "print(y_test.shape)\n",
    "\n"
   ]
  },
  {
   "cell_type": "code",
   "execution_count": null,
   "id": "b79ca02a",
   "metadata": {},
   "outputs": [
    {
     "name": "stdout",
     "output_type": "stream",
     "text": [
      "(10, 16)\n"
     ]
    }
   ],
   "source": [
    "def calc(a, w, b):\n",
    "    return np.dot(w, a) + b\n",
    "\n",
    "def sigmoid(x):\n",
    "    return 1/(1+np.exp(-x))\n",
    "\n",
    "def cost_function_derivative(a, y):\n",
    "    return 2*(a-y)\n",
    "\n",
    "def sigmoid_derivative(x):\n",
    "    return (1/(1+np.exp(-x))**2)*np.exp(-x)\n",
    "\n",
    "# def back():\n",
    "    \n",
    "digits = [0, 1, 2, 3, 4, 5, 6, 7, 8, 9]\n",
    "batch_size = 1\n",
    "current = 0\n",
    "learning_rate = 0.1\n",
    "\n",
    "\n",
    "layers = {1: {\"activations\" : x_train[current].reshape(784,1)/255}, \n",
    "            2: {\"activations\" : np.random.rand(16).reshape(16, 1), \"weights\" : np.random.uniform(-0.5, 0.5, size=784*16).reshape(16, 784), \"biases\" : np.random.uniform(-0.5, 0.5, size=16).reshape(16, 1)}, \n",
    "            3: {\"activations\" : np.random.rand(16).reshape(16, 1), \"weights\" : np.random.uniform(-0.5, 0.5, size=16*16).reshape(16, 16), \"biases\" : np.random.uniform(-0.5, 0.5, size=16).reshape(16, 1)},\n",
    "            4 : {\"activations\" : np.random.rand(10).reshape(10, 1), \"weights\" : np.random.uniform(-0.5, 0.5, size=16*10).reshape(10, 16), \"biases\" : np.random.uniform(-0.5, 0.5, size=10).reshape(10, 1)}}\n",
    "\n",
    "\n",
    "for i in range(1):\n",
    "    \n",
    "    gradient = {2: {\"weights\" : np.random.uniform(-0.5, 0.5, size=784*16).reshape(16, 784), \"biases\" : np.random.uniform(-0.5, 0.5, size=16).reshape(16, 1)}, \n",
    "                3: {\"weights\" : np.random.uniform(-0.5, 0.5, size=16*16).reshape(16, 16), \"biases\" : np.random.uniform(-0.5, 0.5, size=16).reshape(16, 1)},\n",
    "                4 : {\"weights\" : np.random.uniform(-0.5, 0.5, size=16*10).reshape(10, 16), \"biases\" : np.random.uniform(-0.5, 0.5, size=10).reshape(10, 1)}}\n",
    "              \n",
    "    \n",
    "    z2 = calc(layers[1][\"activations\"], layers[2][\"weights\"], layers[2][\"biases\"])\n",
    "    z3 = calc(layers[2][\"activations\"], layers[3][\"weights\"], layers[3][\"biases\"])\n",
    "    z4 = calc(layers[3][\"activations\"], layers[4][\"weights\"], layers[4][\"biases\"])\n",
    "    layers[2][\"activations\"] = sigmoid(z2)\n",
    "    layers[3][\"activations\"] = sigmoid(z3)\n",
    "    layers[4][\"activations\"] = sigmoid(z4)\n",
    "    \n",
    "    expect_num = y_train[current]\n",
    "    expect_output = np.zeros(10)\n",
    "    expect_output[digits.index(expect_num)] = 1\n",
    "    \n",
    "    output = layers[4][\"activations\"]\n",
    "    \n",
    "    #print(output)\n",
    "    #print(np.atleast_2d(expect_output).T)\n",
    "    \n",
    "    \n",
    "    #back propagation\n",
    "\n",
    "    #layer 4\n",
    "    \n",
    "    dc = cost_function_derivative(layers[4][\"activations\"], expect_output.reshape((10,1)))\n",
    "    da4 = sigmoid_derivative(z4)\n",
    "    \n",
    "    gradient[4][\"weights\"] = layers[3][\"activations\"].reshape(-1)*dc*da4\n",
    "    gradient[4][\"biases\"] = dc*da4\n",
    "    \n",
    "    #layer 3\n",
    "    \n",
    "    da3 = sigmoid_derivative(z3)\n",
    "    dz4 = layers[4][\"weights\"]\n",
    "    \n",
    "    gradient[3][\"weights\"] = layers[2][\"activations\"].reshape(-1)*da3*dz4*gradient[4][\"biases\"]\n",
    "    gradient[3][\"biases\"] = dz4*gradient[4][\"biases\"]\n",
    "    \n",
    "    print(gradient[3][\"weights\"].shape)\n",
    "    current += 1\n",
    "    layers[1][\"activations\"] = x_train[current].reshape(784, 1)/255\n",
    "\n"
   ]
  },
  {
   "cell_type": "code",
   "execution_count": null,
   "id": "857c9b34",
   "metadata": {},
   "outputs": [],
   "source": []
  }
 ],
 "metadata": {
  "kernelspec": {
   "display_name": "base",
   "language": "python",
   "name": "python3"
  },
  "language_info": {
   "codemirror_mode": {
    "name": "ipython",
    "version": 3
   },
   "file_extension": ".py",
   "mimetype": "text/x-python",
   "name": "python",
   "nbconvert_exporter": "python",
   "pygments_lexer": "ipython3",
   "version": "3.12.7"
  }
 },
 "nbformat": 4,
 "nbformat_minor": 5
}
